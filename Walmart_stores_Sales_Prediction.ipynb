{
 "cells": [
  {
   "cell_type": "code",
   "execution_count": 25,
   "metadata": {},
   "outputs": [],
   "source": [
    "import os\n",
    "import numpy as np\n",
    "import pandas as pd\n",
    "import matplotlib as mp\n",
    "import matplotlib.pyplot as plt\n",
    "import seaborn as sns; sns.set()\n",
    "from mpl_toolkits import mplot3d\n",
    "from datetime import datetime\n",
    "from sklearn.model_selection import train_test_split\n",
    "from sklearn.linear_model import LogisticRegression\n",
    "from sklearn.neighbors import KNeighborsRegressor"
   ]
  },
  {
   "cell_type": "code",
   "execution_count": 3,
   "metadata": {},
   "outputs": [
    {
     "data": {
      "text/plain": [
       "Store                    int64\n",
       "Dept                     int64\n",
       "Date            datetime64[ns]\n",
       "weeklySales            float64\n",
       "isHoliday                 bool\n",
       "Type                    object\n",
       "Size                     int64\n",
       "Temperature            float64\n",
       "Fuel_Price             float64\n",
       "MarkDown1              float64\n",
       "MarkDown2              float64\n",
       "MarkDown3              float64\n",
       "MarkDown4              float64\n",
       "MarkDown5              float64\n",
       "CPI                    float64\n",
       "Unemployment           float64\n",
       "dtype: object"
      ]
     },
     "execution_count": 3,
     "metadata": {},
     "output_type": "execute_result"
    }
   ],
   "source": [
    "dataset = pd.read_csv(\"train.csv\", names=['Store','Dept','Date','weeklySales','isHoliday'],sep=',', header=0,parse_dates=['Date'])\n",
    "features = pd.read_csv(\"features.csv\",sep=',', header=0,\n",
    "                       names=['Store','Date','Temperature','Fuel_Price','MarkDown1','MarkDown2','MarkDown3','MarkDown4',\n",
    "                              'MarkDown5','CPI','Unemployment','IsHoliday'],parse_dates=['Date']).drop(columns=['IsHoliday'])\n",
    "stores = pd.read_csv(\"stores.csv\", names=['Store','Type','Size'],sep=',', header=0)\n",
    "dataset = dataset.merge(stores, how='left').merge(features, how='left')\n",
    "dataset.dtypes"
   ]
  },
  {
   "cell_type": "code",
   "execution_count": 4,
   "metadata": {},
   "outputs": [
    {
     "data": {
      "text/plain": [
       "Store                0\n",
       "Dept                 0\n",
       "Date                 0\n",
       "weeklySales          0\n",
       "isHoliday            0\n",
       "Type                 0\n",
       "Size                 0\n",
       "Temperature          0\n",
       "Fuel_Price           0\n",
       "MarkDown1       270889\n",
       "MarkDown2       310322\n",
       "MarkDown3       284479\n",
       "MarkDown4       286603\n",
       "MarkDown5       270138\n",
       "CPI                  0\n",
       "Unemployment         0\n",
       "Month                0\n",
       "dtype: int64"
      ]
     },
     "execution_count": 4,
     "metadata": {},
     "output_type": "execute_result"
    }
   ],
   "source": [
    "dataset['Temperature'] = (dataset['Temperature'] - 32) * 5/9\n",
    "dataset['Month']=dataset['Date'].dt.month\n",
    "dataset.isnull().sum()"
   ]
  },
  {
   "cell_type": "code",
   "execution_count": 5,
   "metadata": {
    "scrolled": true
   },
   "outputs": [
    {
     "data": {
      "text/plain": [
       "Store           0\n",
       "Dept            0\n",
       "Date            0\n",
       "weeklySales     0\n",
       "isHoliday       0\n",
       "Type            0\n",
       "Size            0\n",
       "Temperature     0\n",
       "Fuel_Price      0\n",
       "MarkDown1       0\n",
       "MarkDown2       0\n",
       "MarkDown3       0\n",
       "MarkDown4       0\n",
       "MarkDown5       0\n",
       "CPI             0\n",
       "Unemployment    0\n",
       "Month           0\n",
       "dtype: int64"
      ]
     },
     "execution_count": 5,
     "metadata": {},
     "output_type": "execute_result"
    }
   ],
   "source": [
    "###Filling 0 for missing values of Markdown 1,2,3,4,5\n",
    "dataset[['MarkDown1','MarkDown2','MarkDown3','MarkDown4', 'MarkDown5']] = dataset[['MarkDown1','MarkDown2','MarkDown3','MarkDown4','MarkDown5']].fillna(0)\n",
    "dataset.isnull().sum()\n",
    "###There is no more NaN in data"
   ]
  },
  {
   "cell_type": "code",
   "execution_count": 6,
   "metadata": {},
   "outputs": [
    {
     "data": {
      "text/plain": [
       "16352.05603179975"
      ]
     },
     "execution_count": 6,
     "metadata": {},
     "output_type": "execute_result"
    }
   ],
   "source": [
    "dataset.loc[dataset[\"Date\"]=='2010-02-12'][\"weeklySales\"].mean()\n",
    "#superbowlday"
   ]
  },
  {
   "cell_type": "code",
   "execution_count": null,
   "metadata": {},
   "outputs": [
    {
     "data": {
      "text/plain": [
       "15537.758883214183"
      ]
     },
     "execution_count": 210,
     "metadata": {},
     "output_type": "execute_result"
    }
   ],
   "source": [
    "dataset.loc[dataset[\"Date\"]=='2010-09-10'][\"weeklySales\"].mean()\n",
    "#labor day"
   ]
  },
  {
   "cell_type": "code",
   "execution_count": null,
   "metadata": {},
   "outputs": [
    {
     "data": {
      "text/plain": [
       "22403.33670524169"
      ]
     },
     "execution_count": 211,
     "metadata": {},
     "output_type": "execute_result"
    }
   ],
   "source": [
    "dataset.loc[dataset[\"Date\"]=='2010-11-26'][\"weeklySales\"].mean()\n",
    "#thanksgiving day"
   ]
  },
  {
   "cell_type": "code",
   "execution_count": null,
   "metadata": {},
   "outputs": [
    {
     "data": {
      "text/plain": [
       "27378.69269282817"
      ]
     },
     "execution_count": 212,
     "metadata": {},
     "output_type": "execute_result"
    }
   ],
   "source": [
    "dataset.loc[(dataset[\"Date\"]=='2010-12-24')|(dataset[\"Date\"]=='2010-12-23')][\"weeklySales\"].mean()\n",
    "#christmas day"
   ]
  },
  {
   "cell_type": "code",
   "execution_count": null,
   "metadata": {},
   "outputs": [
    {
     "data": {
      "text/plain": [
       "16270.275737033313"
      ]
     },
     "execution_count": 213,
     "metadata": {},
     "output_type": "execute_result"
    }
   ],
   "source": [
    "dataset.loc[(dataset['Date'].dt.year==2010)][\"weeklySales\"].mean()\n",
    "#yearly mean"
   ]
  },
  {
   "cell_type": "code",
   "execution_count": 7,
   "metadata": {},
   "outputs": [
    {
     "data": {
      "text/plain": [
       "2010-11-26    23\n",
       "2010-12-24    14\n",
       "2010-12-17     2\n",
       "2010-02-05     1\n",
       "Name: Date, dtype: int64"
      ]
     },
     "execution_count": 7,
     "metadata": {},
     "output_type": "execute_result"
    }
   ],
   "source": [
    "dataset.loc[(dataset['Date'].dt.year==2010) & (dataset[\"weeklySales\"]>=240000)]['Date'].value_counts()"
   ]
  },
  {
   "cell_type": "code",
   "execution_count": 8,
   "metadata": {},
   "outputs": [
    {
     "data": {
      "text/plain": [
       "2011-11-25    22\n",
       "2011-12-23     9\n",
       "2011-08-26     1\n",
       "Name: Date, dtype: int64"
      ]
     },
     "execution_count": 8,
     "metadata": {},
     "output_type": "execute_result"
    }
   ],
   "source": [
    "dataset.loc[(dataset['Date'].dt.year==2011) & (dataset[\"weeklySales\"]>=240000)]['Date'].value_counts()"
   ]
  },
  {
   "cell_type": "code",
   "execution_count": 9,
   "metadata": {},
   "outputs": [],
   "source": [
    "dataset = pd.get_dummies(dataset, columns=[\"Type\",\"isHoliday\"])"
   ]
  },
  {
   "cell_type": "code",
   "execution_count": null,
   "metadata": {},
   "outputs": [],
   "source": [
    "dataset.head()"
   ]
  },
  {
   "cell_type": "code",
   "execution_count": 10,
   "metadata": {},
   "outputs": [],
   "source": [
    "dataset['Black_Friday'] = np.where((dataset['Date']==pd.Timestamp(2010, 11, 26)) | (dataset['Date']==pd.Timestamp(2011, 11, 25)),\"Yes\",\"No\")\n",
    "dataset['Pre_Christmas'] = np.where((dataset['Date']==pd.Timestamp(2010, 12, 23)) | (dataset['Date']==pd.Timestamp(2010, 12, 24)) | (dataset['Date']==pd.Timestamp(2011, 12, 23)) | (dataset['Date']==pd.Timestamp(2011, 12, 24)),\"Yes\",\"No\")\n",
    "dataset = pd.get_dummies(dataset, columns=[\"Black_Friday\",\"Pre_Christmas\"])"
   ]
  },
  {
   "cell_type": "code",
   "execution_count": null,
   "metadata": {},
   "outputs": [],
   "source": [
    "dataset.head()"
   ]
  },
  {
   "cell_type": "code",
   "execution_count": 43,
   "metadata": {},
   "outputs": [],
   "source": [
    "dataset[['MarkDown1','MarkDown2','MarkDown3','MarkDown4', 'MarkDown5']] = dataset[['MarkDown1','MarkDown2','MarkDown3','MarkDown4','MarkDown5']].fillna(0)\n",
    "dataset['Month'] = pd.to_datetime(dataset['Date']).dt.month\n",
    "dataset = dataset.drop(columns=[\"Date\", \"CPI\", \"Fuel_Price\", 'Unemployment', 'MarkDown3'])\n",
    "selector=['Store', 'Dept', 'Size', 'Temperature',\n",
    "        'MarkDown1', 'MarkDown2', 'MarkDown4',\n",
    "       'MarkDown5', 'Month', 'Type_A', 'Type_B',\n",
    "       'Type_C', 'isHoliday_False', 'isHoliday_True', 'Black_Friday_No',\n",
    "       'Black_Friday_Yes', 'Pre_Christmas_No', 'Pre_Christmas_Yes']\n",
    "##we will edit selectors based on EDA analysis"
   ]
  },
  {
   "cell_type": "code",
   "execution_count": 44,
   "metadata": {},
   "outputs": [],
   "source": [
    "np.random.seed(42)\n",
    "X_train, X_val, y_train, y_val = train_test_split(dataset[selector],dataset['weeklySales'], test_size=0.2, random_state=42)"
   ]
  },
  {
   "cell_type": "code",
   "execution_count": 45,
   "metadata": {},
   "outputs": [
    {
     "data": {
      "text/html": [
       "<div>\n",
       "<style scoped>\n",
       "    .dataframe tbody tr th:only-of-type {\n",
       "        vertical-align: middle;\n",
       "    }\n",
       "\n",
       "    .dataframe tbody tr th {\n",
       "        vertical-align: top;\n",
       "    }\n",
       "\n",
       "    .dataframe thead th {\n",
       "        text-align: right;\n",
       "    }\n",
       "</style>\n",
       "<table border=\"1\" class=\"dataframe\">\n",
       "  <thead>\n",
       "    <tr style=\"text-align: right;\">\n",
       "      <th></th>\n",
       "      <th>Store</th>\n",
       "      <th>Dept</th>\n",
       "      <th>Size</th>\n",
       "      <th>Temperature</th>\n",
       "      <th>MarkDown1</th>\n",
       "      <th>MarkDown2</th>\n",
       "      <th>MarkDown4</th>\n",
       "      <th>MarkDown5</th>\n",
       "      <th>Month</th>\n",
       "      <th>Type_A</th>\n",
       "      <th>Type_B</th>\n",
       "      <th>Type_C</th>\n",
       "      <th>isHoliday_False</th>\n",
       "      <th>isHoliday_True</th>\n",
       "      <th>Black_Friday_No</th>\n",
       "      <th>Black_Friday_Yes</th>\n",
       "      <th>Pre_Christmas_No</th>\n",
       "      <th>Pre_Christmas_Yes</th>\n",
       "    </tr>\n",
       "  </thead>\n",
       "  <tbody>\n",
       "    <tr>\n",
       "      <th>138466</th>\n",
       "      <td>15</td>\n",
       "      <td>3</td>\n",
       "      <td>123737</td>\n",
       "      <td>-0.922222</td>\n",
       "      <td>0.00</td>\n",
       "      <td>0.0</td>\n",
       "      <td>0.00</td>\n",
       "      <td>0.00</td>\n",
       "      <td>4</td>\n",
       "      <td>0</td>\n",
       "      <td>1</td>\n",
       "      <td>0</td>\n",
       "      <td>1</td>\n",
       "      <td>0</td>\n",
       "      <td>1</td>\n",
       "      <td>0</td>\n",
       "      <td>1</td>\n",
       "      <td>0</td>\n",
       "    </tr>\n",
       "    <tr>\n",
       "      <th>289214</th>\n",
       "      <td>30</td>\n",
       "      <td>25</td>\n",
       "      <td>42988</td>\n",
       "      <td>28.616667</td>\n",
       "      <td>0.00</td>\n",
       "      <td>0.0</td>\n",
       "      <td>0.00</td>\n",
       "      <td>0.00</td>\n",
       "      <td>6</td>\n",
       "      <td>0</td>\n",
       "      <td>0</td>\n",
       "      <td>1</td>\n",
       "      <td>1</td>\n",
       "      <td>0</td>\n",
       "      <td>1</td>\n",
       "      <td>0</td>\n",
       "      <td>1</td>\n",
       "      <td>0</td>\n",
       "    </tr>\n",
       "    <tr>\n",
       "      <th>52351</th>\n",
       "      <td>6</td>\n",
       "      <td>27</td>\n",
       "      <td>202505</td>\n",
       "      <td>26.355556</td>\n",
       "      <td>0.00</td>\n",
       "      <td>0.0</td>\n",
       "      <td>0.00</td>\n",
       "      <td>0.00</td>\n",
       "      <td>6</td>\n",
       "      <td>1</td>\n",
       "      <td>0</td>\n",
       "      <td>0</td>\n",
       "      <td>1</td>\n",
       "      <td>0</td>\n",
       "      <td>1</td>\n",
       "      <td>0</td>\n",
       "      <td>1</td>\n",
       "      <td>0</td>\n",
       "    </tr>\n",
       "    <tr>\n",
       "      <th>203504</th>\n",
       "      <td>21</td>\n",
       "      <td>49</td>\n",
       "      <td>140167</td>\n",
       "      <td>9.288889</td>\n",
       "      <td>3389.10</td>\n",
       "      <td>43.0</td>\n",
       "      <td>325.35</td>\n",
       "      <td>8623.67</td>\n",
       "      <td>12</td>\n",
       "      <td>0</td>\n",
       "      <td>1</td>\n",
       "      <td>0</td>\n",
       "      <td>1</td>\n",
       "      <td>0</td>\n",
       "      <td>1</td>\n",
       "      <td>0</td>\n",
       "      <td>1</td>\n",
       "      <td>0</td>\n",
       "    </tr>\n",
       "    <tr>\n",
       "      <th>233606</th>\n",
       "      <td>24</td>\n",
       "      <td>55</td>\n",
       "      <td>203819</td>\n",
       "      <td>0.477778</td>\n",
       "      <td>7325.68</td>\n",
       "      <td>25367.9</td>\n",
       "      <td>1745.20</td>\n",
       "      <td>3261.35</td>\n",
       "      <td>1</td>\n",
       "      <td>1</td>\n",
       "      <td>0</td>\n",
       "      <td>0</td>\n",
       "      <td>1</td>\n",
       "      <td>0</td>\n",
       "      <td>1</td>\n",
       "      <td>0</td>\n",
       "      <td>1</td>\n",
       "      <td>0</td>\n",
       "    </tr>\n",
       "  </tbody>\n",
       "</table>\n",
       "</div>"
      ],
      "text/plain": [
       "        Store  Dept    Size  Temperature  MarkDown1  MarkDown2  MarkDown4  \\\n",
       "138466     15     3  123737    -0.922222       0.00        0.0       0.00   \n",
       "289214     30    25   42988    28.616667       0.00        0.0       0.00   \n",
       "52351       6    27  202505    26.355556       0.00        0.0       0.00   \n",
       "203504     21    49  140167     9.288889    3389.10       43.0     325.35   \n",
       "233606     24    55  203819     0.477778    7325.68    25367.9    1745.20   \n",
       "\n",
       "        MarkDown5  Month  Type_A  Type_B  Type_C  isHoliday_False  \\\n",
       "138466       0.00      4       0       1       0                1   \n",
       "289214       0.00      6       0       0       1                1   \n",
       "52351        0.00      6       1       0       0                1   \n",
       "203504    8623.67     12       0       1       0                1   \n",
       "233606    3261.35      1       1       0       0                1   \n",
       "\n",
       "        isHoliday_True  Black_Friday_No  Black_Friday_Yes  Pre_Christmas_No  \\\n",
       "138466               0                1                 0                 1   \n",
       "289214               0                1                 0                 1   \n",
       "52351                0                1                 0                 1   \n",
       "203504               0                1                 0                 1   \n",
       "233606               0                1                 0                 1   \n",
       "\n",
       "        Pre_Christmas_Yes  \n",
       "138466                  0  \n",
       "289214                  0  \n",
       "52351                   0  \n",
       "203504                  0  \n",
       "233606                  0  "
      ]
     },
     "execution_count": 45,
     "metadata": {},
     "output_type": "execute_result"
    }
   ],
   "source": [
    "X_train.head()"
   ]
  },
  {
   "cell_type": "code",
   "execution_count": 56,
   "metadata": {},
   "outputs": [
    {
     "data": {
      "text/plain": [
       "9668.212736947598"
      ]
     },
     "execution_count": 56,
     "metadata": {},
     "output_type": "execute_result"
    }
   ],
   "source": [
    "from sklearn.metrics import mean_absolute_error\n",
    "knn = KNeighborsRegressor(n_neighbors=10)\n",
    "knn.fit(X_train,y_train)\n",
    "y_pred = knn.predict(X_val)\n",
    "def calculate_error(y_val, y_pred):\n",
    "    return mean_absolute_error(y_val, y_pred)\n",
    "calculate_error(y_val, y_pred)"
   ]
  },
  {
   "cell_type": "code",
   "execution_count": null,
   "metadata": {},
   "outputs": [],
   "source": []
  },
  {
   "cell_type": "code",
   "execution_count": null,
   "metadata": {},
   "outputs": [],
   "source": []
  }
 ],
 "metadata": {
  "kernelspec": {
   "display_name": "Python 3",
   "language": "python",
   "name": "python3"
  },
  "language_info": {
   "codemirror_mode": {
    "name": "ipython",
    "version": 3
   },
   "file_extension": ".py",
   "mimetype": "text/x-python",
   "name": "python",
   "nbconvert_exporter": "python",
   "pygments_lexer": "ipython3",
   "version": "3.7.1"
  }
 },
 "nbformat": 4,
 "nbformat_minor": 2
}
